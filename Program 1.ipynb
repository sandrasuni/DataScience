{
 "cells": [
  {
   "cell_type": "code",
   "execution_count": 5,
   "id": "1adc0289",
   "metadata": {},
   "outputs": [
    {
     "name": "stdout",
     "output_type": "stream",
     "text": [
      "integer variable : 42   Type: <class 'int'>\n",
      "Floating variable : 65.8   Type: <class 'float'>\n",
      "Complex variable : (4+3j)   Type: <class 'complex'>\n"
     ]
    }
   ],
   "source": [
    "#Basic datatypes\n",
    "\n",
    "int_var = 42\n",
    "float_var = 65.8\n",
    "complex_var = 4+3j\n",
    "\n",
    "#Print datatype and values\n",
    "print(\"integer variable :\",int_var,\" \",\"Type:\",type(int_var))\n",
    "print(\"Floating variable :\",float_var,\" \",\"Type:\",type(float_var))\n",
    "print(\"Complex variable :\",complex_var,\" \",\"Type:\",type(complex_var ))"
   ]
  },
  {
   "cell_type": "code",
   "execution_count": 8,
   "id": "9a2a29ee",
   "metadata": {},
   "outputs": [
    {
     "name": "stdout",
     "output_type": "stream",
     "text": [
      "Sum value : 107.8\n",
      "Product value : (263.2+197.39999999999998j)\n",
      "Division value : 4.2\n"
     ]
    }
   ],
   "source": [
    "#Mathematical OPerations\n",
    "\n",
    "_sum = int_var + float_var\n",
    "_product = float_var * complex_var\n",
    "division = int_var / 10\n",
    "print(\"Sum value :\",_sum)\n",
    "print(\"Product value :\",_product)\n",
    "print(\"Division value :\",division)"
   ]
  },
  {
   "cell_type": "code",
   "execution_count": 45,
   "id": "e7559bd6",
   "metadata": {},
   "outputs": [
    {
     "name": "stdout",
     "output_type": "stream",
     "text": [
      "String 1: Dhathu\n",
      "String 2: Anutty\n",
      "length of s1: 6\n",
      "length of s2: 6\n",
      "Concatinated String: DhathuAnutty\n",
      "Substring of Dhathu is a beautiful girl : hathu is\n"
     ]
    }
   ],
   "source": [
    "#String Operations\n",
    "\n",
    "s1 = \"Dhathu\"\n",
    "s2 = \"Anutty\"\n",
    "print(\"String 1:\",s1,)\n",
    "print(\"String 2:\",s2,)\n",
    "print(\"length of s1:\",len(s1))\n",
    "print(\"length of s2:\",len(s2))\n",
    "\n",
    "# Concatinate\n",
    "\n",
    "print(\"Concatinated String:\",s1+\"\"+s2)\n",
    "\n",
    "#Substring\n",
    "\n",
    "_str = \"Dhathu is a beautiful girl\"\n",
    "substring_start = str[1:9]\n",
    "print(\"Substring of\",_str,\":\",substring_start)\n"
   ]
  },
  {
   "cell_type": "code",
   "execution_count": 39,
   "id": "b932cc6e",
   "metadata": {},
   "outputs": [
    {
     "name": "stdout",
     "output_type": "stream",
     "text": [
      "Uppercase: DHATHU\n",
      "Capitalized: Dhathu\n",
      "Lowercase: anutty\n",
      "formated string: My name is shanu and age is 30\n"
     ]
    }
   ],
   "source": [
    "#String Method \n",
    "\n",
    "print(\"Uppercase:\",s1.upper())\n",
    "print(\"Capitalized:\",s1.capitalize())\n",
    "print(\"Lowercase:\",s2.lower())\n",
    "\n",
    "name = \"shanu\"\n",
    "age = 30\n",
    "f_string = f\"My name is {name} and age is {age}\"\n",
    "print(\"formated string:\",f_string)"
   ]
  },
  {
   "cell_type": "code",
   "execution_count": 36,
   "id": "152229d1",
   "metadata": {},
   "outputs": [
    {
     "name": "stdout",
     "output_type": "stream",
     "text": [
      "Boolean one: True   type: <class 'bool'>\n",
      "Boolean Two: False   type: <class 'bool'>\n",
      "AND Operation: False\n",
      "OR Operation: True\n",
      "Not Operation: False\n"
     ]
    }
   ],
   "source": [
    "#Boolean \n",
    "\n",
    "B1=True\n",
    "B2=False\n",
    "print(\"Boolean one:\",B1,\" \",\"type:\",type(B1))\n",
    "print(\"Boolean Two:\",B2,\" \",\"type:\",type(B2))\n",
    "\n",
    "#Boolean Operation\n",
    "\n",
    "print(\"AND Operation:\",B1 and B2)\n",
    "print(\"OR Operation:\",B1 or B2)\n",
    "print(\"Not Operation:\",not B1 )"
   ]
  },
  {
   "cell_type": "code",
   "execution_count": 46,
   "id": "7e995ec8",
   "metadata": {},
   "outputs": [
    {
     "name": "stdout",
     "output_type": "stream",
     "text": [
      "['Anu', 'dhathu', 'forever', 'friends']\n"
     ]
    }
   ],
   "source": [
    "#List\n",
    "\n",
    "Var = [\"Anu\",\"dhathu\",\"forever\", \"friends\"]\n",
    "print(Var)\n"
   ]
  },
  {
   "cell_type": "code",
   "execution_count": null,
   "id": "696da77a",
   "metadata": {},
   "outputs": [],
   "source": []
  }
 ],
 "metadata": {
  "kernelspec": {
   "display_name": "Python 3 (ipykernel)",
   "language": "python",
   "name": "python3"
  },
  "language_info": {
   "codemirror_mode": {
    "name": "ipython",
    "version": 3
   },
   "file_extension": ".py",
   "mimetype": "text/x-python",
   "name": "python",
   "nbconvert_exporter": "python",
   "pygments_lexer": "ipython3",
   "version": "3.11.4"
  }
 },
 "nbformat": 4,
 "nbformat_minor": 5
}
